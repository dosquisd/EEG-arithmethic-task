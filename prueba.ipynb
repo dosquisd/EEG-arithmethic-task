{
 "cells": [
  {
   "cell_type": "code",
   "execution_count": 18,
   "metadata": {},
   "outputs": [
    {
     "name": "stdout",
     "output_type": "stream",
     "text": [
      "La solución del sistema es: [0.76103501 0.19025875 0.57077626]\n"
     ]
    }
   ],
   "source": [
    "import numpy as np\n",
    "\n",
    "coeficientes = np.array([[1, -1, -1], [21.6, 45, 0], [21.6, 0, 15]])\n",
    "resultados = np.array([0, 25, 25])\n",
    "\n",
    "print(f'La solución del sistema es: {np.linalg.solve(coeficientes, resultados)}')"
   ]
  },
  {
   "cell_type": "code",
   "execution_count": null,
   "metadata": {},
   "outputs": [],
   "source": []
  }
 ],
 "metadata": {
  "kernelspec": {
   "display_name": "Python 3",
   "language": "python",
   "name": "python3"
  },
  "language_info": {
   "codemirror_mode": {
    "name": "ipython",
    "version": 3
   },
   "file_extension": ".py",
   "mimetype": "text/x-python",
   "name": "python",
   "nbconvert_exporter": "python",
   "pygments_lexer": "ipython3",
   "version": "3.11.2"
  },
  "orig_nbformat": 4
 },
 "nbformat": 4,
 "nbformat_minor": 2
}
